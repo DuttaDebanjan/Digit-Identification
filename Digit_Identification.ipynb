{
 "cells": [
  {
   "cell_type": "code",
   "execution_count": 1,
   "id": "986f326e",
   "metadata": {},
   "outputs": [],
   "source": [
    "import torch\n",
    "import torch.nn as nn\n",
    "import torchvision.datasets as dsets\n",
    "import torchvision.transforms as transforms\n",
    "from torch.autograd import Variable\n",
    "\n"
   ]
  },
  {
   "cell_type": "code",
   "execution_count": 2,
   "id": "37550bd8",
   "metadata": {},
   "outputs": [],
   "source": [
    "# Hyper Parameters\n",
    "input_size = 784\n",
    "num_classes = 10\n",
    "num_epochs = 5\n",
    "batch_size = 100\n",
    "learning_rate = 0.001\n",
    "\n",
    "\n",
    "# MNIST Dataset (Images and Labels)\n",
    "train_dataset = dsets.MNIST(root ='./data',\n",
    "\t\t\t\t\t\t\ttrain = True,\n",
    "\t\t\t\t\t\t\ttransform = transforms.ToTensor(),\n",
    "\t\t\t\t\t\t\tdownload = True)\n",
    "\n",
    "\n",
    "test_dataset = dsets.MNIST(root ='./data',\n",
    "\t\t\t\t\t\ttrain = False,\n",
    "\t\t\t\t\t\ttransform = transforms.ToTensor())\n",
    "\n",
    "# Dataset Loader (Input Pipeline)\n",
    "train_loader = torch.utils.data.DataLoader(dataset = train_dataset,\n",
    "\t\t\t\t\t\t\t\t\t\tbatch_size = batch_size,\n",
    "\t\t\t\t\t\t\t\t\t\tshuffle = True)\n",
    "\n",
    "test_loader = torch.utils.data.DataLoader(dataset = test_dataset,\n",
    "\t\t\t\t\t\t\t\t\t\tbatch_size = batch_size,\n",
    "\t\t\t\t\t\t\t\t\t\tshuffle = False)\n"
   ]
  },
  {
   "cell_type": "code",
   "execution_count": 13,
   "id": "8c5e741c",
   "metadata": {},
   "outputs": [
    {
     "name": "stdout",
     "output_type": "stream",
     "text": [
      "Image 1: Label = 5\n",
      "Image 2: Label = 0\n",
      "Image 3: Label = 4\n",
      "Image 4: Label = 1\n",
      "Image 5: Label = 9\n",
      "Image 6: Label = 2\n",
      "Image 7: Label = 1\n",
      "Image 8: Label = 3\n",
      "Image 9: Label = 1\n",
      "Image 10: Label = 4\n",
      "Image 11: Label = 3\n",
      "Image 12: Label = 5\n",
      "Image 13: Label = 3\n",
      "Image 14: Label = 6\n",
      "Image 15: Label = 1\n",
      "Image 16: Label = 7\n",
      "Image 17: Label = 2\n",
      "Image 18: Label = 8\n",
      "Image 19: Label = 6\n",
      "Image 20: Label = 9\n",
      "Image 21: Label = 4\n",
      "Image 22: Label = 0\n",
      "Image 23: Label = 9\n",
      "Image 24: Label = 1\n",
      "Image 25: Label = 1\n",
      "Image 26: Label = 2\n",
      "Image 27: Label = 4\n",
      "Image 28: Label = 3\n",
      "Image 29: Label = 2\n",
      "Image 30: Label = 7\n",
      "Image 31: Label = 3\n",
      "Image 32: Label = 8\n",
      "Image 33: Label = 6\n",
      "Image 34: Label = 9\n",
      "Image 35: Label = 0\n",
      "Image 36: Label = 5\n",
      "Image 37: Label = 6\n",
      "Image 38: Label = 0\n",
      "Image 39: Label = 7\n",
      "Image 40: Label = 6\n",
      "Image 41: Label = 1\n",
      "Image 42: Label = 8\n",
      "Image 43: Label = 7\n",
      "Image 44: Label = 9\n",
      "Image 45: Label = 3\n",
      "Image 46: Label = 9\n",
      "Image 47: Label = 8\n",
      "Image 48: Label = 5\n",
      "Image 49: Label = 9\n",
      "Image 50: Label = 3\n",
      "Image 51: Label = 3\n",
      "Image 52: Label = 0\n",
      "Image 53: Label = 7\n",
      "Image 54: Label = 4\n",
      "Image 55: Label = 9\n",
      "Image 56: Label = 8\n",
      "Image 57: Label = 0\n",
      "Image 58: Label = 9\n",
      "Image 59: Label = 4\n",
      "Image 60: Label = 1\n",
      "Image 61: Label = 4\n",
      "Image 62: Label = 4\n",
      "Image 63: Label = 6\n",
      "Image 64: Label = 0\n",
      "Image 65: Label = 4\n",
      "Image 66: Label = 5\n",
      "Image 67: Label = 6\n",
      "Image 68: Label = 1\n",
      "Image 69: Label = 0\n",
      "Image 70: Label = 0\n",
      "Image 71: Label = 1\n",
      "Image 72: Label = 7\n",
      "Image 73: Label = 1\n",
      "Image 74: Label = 6\n",
      "Image 75: Label = 3\n",
      "Image 76: Label = 0\n",
      "Image 77: Label = 2\n",
      "Image 78: Label = 1\n",
      "Image 79: Label = 1\n",
      "Image 80: Label = 7\n",
      "Image 81: Label = 9\n",
      "Image 82: Label = 0\n",
      "Image 83: Label = 2\n",
      "Image 84: Label = 6\n",
      "Image 85: Label = 7\n",
      "Image 86: Label = 8\n",
      "Image 87: Label = 3\n",
      "Image 88: Label = 9\n",
      "Image 89: Label = 0\n",
      "Image 90: Label = 4\n",
      "Image 91: Label = 6\n",
      "Image 92: Label = 7\n",
      "Image 93: Label = 4\n",
      "Image 94: Label = 6\n",
      "Image 95: Label = 8\n",
      "Image 96: Label = 0\n",
      "Image 97: Label = 7\n",
      "Image 98: Label = 8\n",
      "Image 99: Label = 3\n",
      "Image 100: Label = 1\n"
     ]
    }
   ],
   "source": [
    "for i in range(100):  # Print the first 5 items\n",
    "    image, label = train_dataset[i]\n",
    "    print(f\"Image {i + 1}: Label = {label}\")\n",
    "\n",
    "\n"
   ]
  },
  {
   "cell_type": "code",
   "execution_count": 3,
   "id": "26b57445",
   "metadata": {},
   "outputs": [],
   "source": [
    "class LogisticRegression(nn.Module):\n",
    "\tdef __init__(self, input_size, num_classes):\n",
    "\t\tsuper(LogisticRegression, self).__init__()\n",
    "\t\tself.linear = nn.Linear(input_size, num_classes)\n",
    "\n",
    "\tdef forward(self, x):\n",
    "\t\tout = self.linear(x)\n",
    "\t\treturn out\n"
   ]
  },
  {
   "cell_type": "code",
   "execution_count": 4,
   "id": "9a75e3cd",
   "metadata": {},
   "outputs": [],
   "source": [
    "model = LogisticRegression(input_size, num_classes)\n"
   ]
  },
  {
   "cell_type": "code",
   "execution_count": 5,
   "id": "56fd762f",
   "metadata": {},
   "outputs": [],
   "source": [
    "criterion = nn.CrossEntropyLoss()\n",
    "optimizer = torch.optim.SGD(model.parameters(), lr = learning_rate)\n"
   ]
  },
  {
   "cell_type": "code",
   "execution_count": 7,
   "id": "775f74fc",
   "metadata": {},
   "outputs": [
    {
     "name": "stdout",
     "output_type": "stream",
     "text": [
      "Epoch: [1/5], Step: [100/600], Loss: 2.1059\n",
      "Epoch: [1/5], Step: [200/600], Loss: 2.0123\n",
      "Epoch: [1/5], Step: [300/600], Loss: 1.9367\n",
      "Epoch: [1/5], Step: [400/600], Loss: 1.8543\n",
      "Epoch: [1/5], Step: [500/600], Loss: 1.8162\n",
      "Epoch: [1/5], Step: [600/600], Loss: 1.8074\n",
      "Epoch: [2/5], Step: [100/600], Loss: 1.6635\n",
      "Epoch: [2/5], Step: [200/600], Loss: 1.5549\n",
      "Epoch: [2/5], Step: [300/600], Loss: 1.5844\n",
      "Epoch: [2/5], Step: [400/600], Loss: 1.4995\n",
      "Epoch: [2/5], Step: [500/600], Loss: 1.5184\n",
      "Epoch: [2/5], Step: [600/600], Loss: 1.3309\n",
      "Epoch: [3/5], Step: [100/600], Loss: 1.3043\n",
      "Epoch: [3/5], Step: [200/600], Loss: 1.3043\n",
      "Epoch: [3/5], Step: [300/600], Loss: 1.3780\n",
      "Epoch: [3/5], Step: [400/600], Loss: 1.3163\n",
      "Epoch: [3/5], Step: [500/600], Loss: 1.1850\n",
      "Epoch: [3/5], Step: [600/600], Loss: 1.1491\n",
      "Epoch: [4/5], Step: [100/600], Loss: 1.2298\n",
      "Epoch: [4/5], Step: [200/600], Loss: 1.1384\n",
      "Epoch: [4/5], Step: [300/600], Loss: 1.2272\n",
      "Epoch: [4/5], Step: [400/600], Loss: 1.1105\n",
      "Epoch: [4/5], Step: [500/600], Loss: 1.0591\n",
      "Epoch: [4/5], Step: [600/600], Loss: 1.0983\n",
      "Epoch: [5/5], Step: [100/600], Loss: 1.0007\n",
      "Epoch: [5/5], Step: [200/600], Loss: 1.1572\n",
      "Epoch: [5/5], Step: [300/600], Loss: 1.0518\n",
      "Epoch: [5/5], Step: [400/600], Loss: 0.9742\n",
      "Epoch: [5/5], Step: [500/600], Loss: 0.9385\n",
      "Epoch: [5/5], Step: [600/600], Loss: 1.0062\n"
     ]
    }
   ],
   "source": [
    "for epoch in range(num_epochs):\n",
    "    for i, (images, labels) in enumerate(train_loader):\n",
    "        images = Variable(images.view(-1, 28 * 28))\n",
    "        labels = Variable(labels)\n",
    "\n",
    "        # Forward + Backward + Optimize\n",
    "        optimizer.zero_grad()\n",
    "        outputs = model(images)\n",
    "        loss = criterion(outputs, labels)\n",
    "        loss.backward()\n",
    "        optimizer.step()\n",
    "\n",
    "        if (i + 1) % 100 == 0:\n",
    "            print('Epoch: [%d/%d], Step: [%d/%d], Loss: %.4f'\n",
    "                % (epoch + 1, num_epochs, i + 1,\n",
    "                    len(train_dataset) // batch_size, loss.item()))\n",
    "\n"
   ]
  },
  {
   "cell_type": "code",
   "execution_count": 8,
   "id": "460fc27a",
   "metadata": {},
   "outputs": [
    {
     "name": "stdout",
     "output_type": "stream",
     "text": [
      "Accuracy of the model on the 10000 test images:  82 %\n"
     ]
    }
   ],
   "source": [
    "# Test the Model\n",
    "correct = 0\n",
    "total = 0\n",
    "for images, labels in test_loader:\n",
    "\timages = Variable(images.view(-1, 28 * 28))\n",
    "\toutputs = model(images)\n",
    "\t_, predicted = torch.max(outputs.data, 1)\n",
    "\ttotal += labels.size(0)\n",
    "\tcorrect += (predicted == labels).sum()\n",
    "\n",
    "print('Accuracy of the model on the 10000 test images: % d %%' % (\n",
    "\t\t\t100 * correct / total))\n"
   ]
  },
  {
   "cell_type": "markdown",
   "id": "f3c32134",
   "metadata": {},
   "source": [
    "Not a good model compared with today's "
   ]
  }
 ],
 "metadata": {
  "kernelspec": {
   "display_name": "Python 3 (ipykernel)",
   "language": "python",
   "name": "python3"
  },
  "language_info": {
   "codemirror_mode": {
    "name": "ipython",
    "version": 3
   },
   "file_extension": ".py",
   "mimetype": "text/x-python",
   "name": "python",
   "nbconvert_exporter": "python",
   "pygments_lexer": "ipython3",
   "version": "3.10.9"
  }
 },
 "nbformat": 4,
 "nbformat_minor": 5
}
